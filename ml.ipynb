{
  "nbformat": 4,
  "nbformat_minor": 0,
  "metadata": {
    "colab": {
      "name": "ml.ipynb",
      "provenance": [],
      "collapsed_sections": [],
      "authorship_tag": "ABX9TyN+41fCPhOKhzCX6Vwimlk1",
      "include_colab_link": true
    },
    "kernelspec": {
      "name": "python3",
      "display_name": "Python 3"
    }
  },
  "cells": [
    {
      "cell_type": "markdown",
      "metadata": {
        "id": "view-in-github",
        "colab_type": "text"
      },
      "source": [
        "<a href=\"https://colab.research.google.com/github/Anna72/ML_1_term/blob/main/ml.ipynb\" target=\"_parent\"><img src=\"https://colab.research.google.com/assets/colab-badge.svg\" alt=\"Open In Colab\"/></a>"
      ]
    },
    {
      "cell_type": "code",
      "metadata": {
        "colab": {
          "base_uri": "https://localhost:8080/"
        },
        "id": "cJbR-ezBuszR",
        "outputId": "d91e2a52-e75c-4c5e-9c04-3918c5ffcfeb"
      },
      "source": [
        "newt = [8,4,11,20]\n",
        "import numpy as np\n",
        "from sklearn.linear_model import LinearRegression\n",
        "\n",
        "X = np.array([13,4,11,20]).reshape((-1, 1))\n",
        "y = np.array([8,5,6,15])\n",
        "reg = LinearRegression().fit(X, y)\n",
        "q1 = reg.intercept_ \n",
        "reg.intercept_\n"
      ],
      "execution_count": null,
      "outputs": [
        {
          "output_type": "execute_result",
          "data": {
            "text/plain": [
              "0.9307692307692337"
            ]
          },
          "metadata": {
            "tags": []
          },
          "execution_count": 1
        }
      ]
    },
    {
      "cell_type": "code",
      "metadata": {
        "colab": {
          "base_uri": "https://localhost:8080/"
        },
        "id": "7OagNH8ZEB8e",
        "outputId": "6eb29666-8bdc-4a23-f524-762bf7d38d67"
      },
      "source": [
        "q0 = reg.coef_\n",
        "reg.coef_"
      ],
      "execution_count": null,
      "outputs": [
        {
          "output_type": "execute_result",
          "data": {
            "text/plain": [
              "array([0.63076923])"
            ]
          },
          "metadata": {
            "tags": []
          },
          "execution_count": 2
        }
      ]
    },
    {
      "cell_type": "code",
      "metadata": {
        "colab": {
          "base_uri": "https://localhost:8080/"
        },
        "id": "c7fuJC8oFLAZ",
        "outputId": "0440ea33-a2ca-403c-eb62-e5c231185b01"
      },
      "source": [
        "from math import sqrt\n",
        "q0 = 121/130\n",
        "q1 = 82/130\n",
        "s = 0\n",
        "for i in range(4):\n",
        "  s+= pow((y[i] - q0 - q1*X[i]), 2)\n",
        "s = sqrt(s/2)\n",
        "\n",
        "xmean  = 12\n",
        "s1 = 0\n",
        "for i in range(4):\n",
        "  s1 += pow( (X[i] - xmean ), 2)\n",
        "s1 = sqrt(pow(xmean,2)/s1 + (1/4))\n",
        "\n",
        "se0 = s * s1\n",
        "se0\n",
        "#se0 = Standart error FOR q0"
      ],
      "execution_count": null,
      "outputs": [
        {
          "output_type": "execute_result",
          "data": {
            "text/plain": [
              "2.5095026499878137"
            ]
          },
          "metadata": {
            "tags": []
          },
          "execution_count": 3
        }
      ]
    },
    {
      "cell_type": "code",
      "metadata": {
        "colab": {
          "base_uri": "https://localhost:8080/"
        },
        "id": "ckl1BQKmSKW_",
        "outputId": "5230cb4e-f9bf-4872-9edc-a9e68c871712"
      },
      "source": [
        "s2 = 0\n",
        "for i in range(4):\n",
        "  s2 += pow( X[i] - xmean , 2)\n",
        "\n",
        "s2 = sqrt(1/s2)  \n",
        "\n",
        "se1 = s * s2\n",
        "se1\n",
        "#se1 = Standart error FOR q1\n",
        "# t (1 - e/2) = 4.303 if e = 0.05"
      ],
      "execution_count": null,
      "outputs": [
        {
          "output_type": "execute_result",
          "data": {
            "text/plain": [
              "0.18889275627397964"
            ]
          },
          "metadata": {
            "tags": []
          },
          "execution_count": 6
        }
      ]
    },
    {
      "cell_type": "code",
      "metadata": {
        "colab": {
          "base_uri": "https://localhost:8080/"
        },
        "id": "D-eaMdLMS1k0",
        "outputId": "179cfe9e-556b-47a4-c72d-9566901357b7"
      },
      "source": [
        "t  = 4.303\n",
        "# calculating confidence intervals for q0 q1 \n",
        "l0 = q0 - t*se0\n",
        "r0 = q0 + t*se0\n",
        "l1 = q1 - t*se1\n",
        "r1 = q1 + t*se1\n",
        "print (l0,' = l0',r0, ' = ro')\n",
        "print (l1,' = l1',r1, ' = r1')"
      ],
      "execution_count": null,
      "outputs": [
        {
          "output_type": "stream",
          "text": [
            "-9.86762067212833  = l0 11.729159133666792  = ro\n",
            "-0.1820362994777036  = l1 1.443574761016165  = r1\n"
          ],
          "name": "stdout"
        }
      ]
    },
    {
      "cell_type": "code",
      "metadata": {
        "colab": {
          "base_uri": "https://localhost:8080/"
        },
        "id": "Vz1zteE750qz",
        "outputId": "eebfec1f-93a7-4a3f-851e-cef9a41f3e95"
      },
      "source": [
        "t1 = abs(q1)/se1\n",
        "# t student = 4.303\n",
        "# t for hypotesis = 3.339\n",
        "# th < ts\n",
        "# H0 accepted Ha rejected\n",
        "t1"
      ],
      "execution_count": null,
      "outputs": [
        {
          "output_type": "execute_result",
          "data": {
            "text/plain": [
              "3.3392981457390087"
            ]
          },
          "metadata": {
            "tags": []
          },
          "execution_count": 11
        }
      ]
    },
    {
      "cell_type": "code",
      "metadata": {
        "colab": {
          "base_uri": "https://localhost:8080/"
        },
        "id": "taFYrpxi-CQC",
        "outputId": "fef85554-42e3-4f10-87e8-665cf539dbe9"
      },
      "source": [
        "rse = 0 # residual standart error \n",
        "R2 = 0 # R^2 statistics\n",
        "for i in range(4):\n",
        "  rse += pow((y[i] - q0 - q1*X[i]), 2)\n",
        "  R2 += pow((y[i] - 8.5), 2)\n",
        "R2 = 1 - rse/R2  \n",
        "rse = sqrt(rse/2)\n",
        "print(rse)\n",
        "print(R2)"
      ],
      "execution_count": null,
      "outputs": [
        {
          "output_type": "stream",
          "text": [
            "2.153708786828326\n",
            "[0.84791929]\n"
          ],
          "name": "stdout"
        }
      ]
    },
    {
      "cell_type": "code",
      "metadata": {
        "id": "9guH37xd_kUL",
        "colab": {
          "base_uri": "https://localhost:8080/"
        },
        "outputId": "ccee92d5-6f7d-4a29-a0c6-45cd13e043e2"
      },
      "source": [
        "import numpy as np\n",
        "from sklearn.linear_model import LinearRegression\n",
        "#id,X,Y\n",
        "#1,14,36\n",
        "#2,21,49\n",
        "#3,25,72\n",
        "#4,8,24\n",
        "#5,20,56\n",
        "#6,18,48\n",
        "#7,17,51\n",
        "#8,3,10\n",
        "#9,1,3\n",
        "#10,10,32\n",
        "X = np.array([14,21,25,8,20,18,17,3,1,10]).reshape((-1, 1))\n",
        "y = np.array([36,49,72,24,56,48,51,10,3,32])\n",
        "reg = LinearRegression().fit(X, y)\n",
        "Xmean = 13.7\n",
        "Ymean = 38.1\n",
        "print('X mean = ', sum(X)/len(X))\n",
        "print('Y mean = ',sum(y)/len(y))\n",
        "q1 = reg.intercept_ \n",
        "q0 = reg.coef_\n",
        "print('q1 = ',q1)\n",
        "print('q0 = ',q0)\n",
        "q11 = 0\n",
        "q12 = 0 \n",
        "for i in range(10):\n",
        "  q11 += (X[i] - Xmean)*(y[i] - Ymean)\n",
        "  q12 += pow((X[i] - Xmean), 2)\n",
        "q11 = q11/q12\n",
        "print('q11 = ',q11)  \n",
        "q00  = Ymean - q11*Xmean\n",
        "print('q00 = ',q00)  "
      ],
      "execution_count": null,
      "outputs": [
        {
          "output_type": "stream",
          "text": [
            "X mean =  [13.7]\n",
            "Y mean =  38.1\n",
            "q1 =  1.9570005243838509\n",
            "q0 =  [2.63817514]\n",
            "q11 =  [2.63817514]\n",
            "q00 =  [1.95700052]\n"
          ],
          "name": "stdout"
        }
      ]
    },
    {
      "cell_type": "code",
      "metadata": {
        "colab": {
          "base_uri": "https://localhost:8080/"
        },
        "id": "gHF3QeIsubrM",
        "outputId": "0fba6275-213a-4aff-c06a-8d9ba1006e6a"
      },
      "source": [
        "from math import sqrt\n",
        "Q0 = q00[0]\n",
        "q1 = q11[0]\n",
        "rse = 0\n",
        "R2 = 0 # R^2 statistics\n",
        "for i in range(10):\n",
        "  rse += pow((y[i] - Q0 - q1*X[i]), 2)\n",
        "  R2 += pow((y[i] - Ymean), 2)\n",
        "R2 = 1 - rse/R2  \n",
        "rse = sqrt(rse/2)\n",
        "#print(rse)\n",
        "print('R^2 stasistics = ', R2)"
      ],
      "execution_count": null,
      "outputs": [
        {
          "output_type": "stream",
          "text": [
            "R^2 stasistics =  [0.96765359]\n"
          ],
          "name": "stdout"
        }
      ]
    },
    {
      "cell_type": "markdown",
      "metadata": {
        "id": "R-8uUl_wujDE"
      },
      "source": [
        "R^2 = 1 - sum(Yi-qo - q1*xi)^2 /  sum(Yi - Ymean)^2\n",
        "[0.72127153]"
      ]
    },
    {
      "cell_type": "code",
      "metadata": {
        "colab": {
          "base_uri": "https://localhost:8080/",
          "height": 224
        },
        "id": "CAw6r-XHzMJL",
        "outputId": "5a9e4cbf-90e9-40a0-b10e-3975d1ba9477"
      },
      "source": [
        "import pandas as pd\n",
        "#multivariate linear regression\n",
        "data = pd.read_csv(\"candy-data.csv\", encoding = 'utf-8', delimiter=',')\n",
        "data.head(5)"
      ],
      "execution_count": null,
      "outputs": [
        {
          "output_type": "execute_result",
          "data": {
            "text/html": [
              "<div>\n",
              "<style scoped>\n",
              "    .dataframe tbody tr th:only-of-type {\n",
              "        vertical-align: middle;\n",
              "    }\n",
              "\n",
              "    .dataframe tbody tr th {\n",
              "        vertical-align: top;\n",
              "    }\n",
              "\n",
              "    .dataframe thead th {\n",
              "        text-align: right;\n",
              "    }\n",
              "</style>\n",
              "<table border=\"1\" class=\"dataframe\">\n",
              "  <thead>\n",
              "    <tr style=\"text-align: right;\">\n",
              "      <th></th>\n",
              "      <th>competitorname</th>\n",
              "      <th>chocolate</th>\n",
              "      <th>fruity</th>\n",
              "      <th>caramel</th>\n",
              "      <th>peanutyalmondy</th>\n",
              "      <th>nougat</th>\n",
              "      <th>crispedricewafer</th>\n",
              "      <th>hard</th>\n",
              "      <th>bar</th>\n",
              "      <th>pluribus</th>\n",
              "      <th>sugarpercent</th>\n",
              "      <th>pricepercent</th>\n",
              "      <th>winpercent</th>\n",
              "      <th>Y</th>\n",
              "    </tr>\n",
              "  </thead>\n",
              "  <tbody>\n",
              "    <tr>\n",
              "      <th>0</th>\n",
              "      <td>100 Grand</td>\n",
              "      <td>1</td>\n",
              "      <td>0</td>\n",
              "      <td>1</td>\n",
              "      <td>0</td>\n",
              "      <td>0</td>\n",
              "      <td>1</td>\n",
              "      <td>0</td>\n",
              "      <td>1</td>\n",
              "      <td>0</td>\n",
              "      <td>0.732</td>\n",
              "      <td>0.860</td>\n",
              "      <td>66.971725</td>\n",
              "      <td>1</td>\n",
              "    </tr>\n",
              "    <tr>\n",
              "      <th>1</th>\n",
              "      <td>3 Musketeers</td>\n",
              "      <td>1</td>\n",
              "      <td>0</td>\n",
              "      <td>0</td>\n",
              "      <td>0</td>\n",
              "      <td>1</td>\n",
              "      <td>0</td>\n",
              "      <td>0</td>\n",
              "      <td>1</td>\n",
              "      <td>0</td>\n",
              "      <td>0.604</td>\n",
              "      <td>0.511</td>\n",
              "      <td>67.602936</td>\n",
              "      <td>1</td>\n",
              "    </tr>\n",
              "    <tr>\n",
              "      <th>2</th>\n",
              "      <td>One dime</td>\n",
              "      <td>0</td>\n",
              "      <td>0</td>\n",
              "      <td>0</td>\n",
              "      <td>0</td>\n",
              "      <td>0</td>\n",
              "      <td>0</td>\n",
              "      <td>0</td>\n",
              "      <td>0</td>\n",
              "      <td>0</td>\n",
              "      <td>0.011</td>\n",
              "      <td>0.116</td>\n",
              "      <td>32.261086</td>\n",
              "      <td>0</td>\n",
              "    </tr>\n",
              "    <tr>\n",
              "      <th>3</th>\n",
              "      <td>One quarter</td>\n",
              "      <td>0</td>\n",
              "      <td>0</td>\n",
              "      <td>0</td>\n",
              "      <td>0</td>\n",
              "      <td>0</td>\n",
              "      <td>0</td>\n",
              "      <td>0</td>\n",
              "      <td>0</td>\n",
              "      <td>0</td>\n",
              "      <td>0.011</td>\n",
              "      <td>0.511</td>\n",
              "      <td>46.116505</td>\n",
              "      <td>0</td>\n",
              "    </tr>\n",
              "    <tr>\n",
              "      <th>4</th>\n",
              "      <td>Air Heads</td>\n",
              "      <td>0</td>\n",
              "      <td>1</td>\n",
              "      <td>0</td>\n",
              "      <td>0</td>\n",
              "      <td>0</td>\n",
              "      <td>0</td>\n",
              "      <td>0</td>\n",
              "      <td>0</td>\n",
              "      <td>0</td>\n",
              "      <td>0.906</td>\n",
              "      <td>0.511</td>\n",
              "      <td>52.341465</td>\n",
              "      <td>1</td>\n",
              "    </tr>\n",
              "  </tbody>\n",
              "</table>\n",
              "</div>"
            ],
            "text/plain": [
              "  competitorname  chocolate  fruity  ...  pricepercent  winpercent  Y\n",
              "0      100 Grand          1       0  ...         0.860   66.971725  1\n",
              "1   3 Musketeers          1       0  ...         0.511   67.602936  1\n",
              "2       One dime          0       0  ...         0.116   32.261086  0\n",
              "3    One quarter          0       0  ...         0.511   46.116505  0\n",
              "4      Air Heads          0       1  ...         0.511   52.341465  1\n",
              "\n",
              "[5 rows x 14 columns]"
            ]
          },
          "metadata": {
            "tags": []
          },
          "execution_count": 22
        }
      ]
    },
    {
      "cell_type": "markdown",
      "metadata": {
        "id": "ar5CID1Szs24"
      },
      "source": [
        "The provided dataset consists of the Halloween candy ranking (of the best, or at least the most popular, sweets in America). Train the multivariate linear regression model. The predictors are as follows:\n",
        "chocolate, \n",
        "fruity, \n",
        "caramel, \n",
        "peanutyalmondy, \n",
        "nougat, \n",
        "crispedricewafer,\n",
        "hard, \n",
        "bar, \n",
        "pluribus,\n",
        "sugarpercent, \n",
        "pricepercent, \n",
        "the response is winpercent.\n",
        "\n",
        "As a training set, use the data from the file. Do not include the following candies: \n",
        "Dum Dums, \n",
        "Nestle Smarties. \n",
        "Train the model. In Azure ML Studio, specify the random seed = 2019 in the parameters of Linear Regression item.\n",
        "\n",
        "Enter the predicted value of winpercent for Dum Dums:"
      ]
    },
    {
      "cell_type": "code",
      "metadata": {
        "colab": {
          "base_uri": "https://localhost:8080/"
        },
        "id": "UO2vg2xu0LR0",
        "outputId": "4ccf0343-b578-4889-9298-fb250102567c"
      },
      "source": [
        "for i in range(len(data)):\n",
        "  if data['competitorname'][i] == 'Dum Dums' :\n",
        "    print(i)\n",
        "for i in range(len(data)):\n",
        "  if data['competitorname'][i] == 'Nestle Smarties' :\n",
        "    print(i)    "
      ],
      "execution_count": null,
      "outputs": [
        {
          "output_type": "stream",
          "text": [
            "14\n",
            "62\n"
          ],
          "name": "stdout"
        }
      ]
    },
    {
      "cell_type": "code",
      "metadata": {
        "id": "AoWlu8VoCnDT"
      },
      "source": [
        "from sklearn.linear_model import LinearRegression\n",
        "data1 = data.drop([14,62], axis = 0)\n",
        "X = data1[['chocolate', 'fruity', 'caramel', 'peanutyalmondy', 'nougat', 'crispedricewafer', 'hard', 'bar', 'pluribus', 'sugarpercent', 'pricepercent']]\n",
        "Y = data1['winpercent']\n",
        "regr = LinearRegression().fit(X,Y)"
      ],
      "execution_count": null,
      "outputs": []
    },
    {
      "cell_type": "code",
      "metadata": {
        "colab": {
          "base_uri": "https://localhost:8080/"
        },
        "id": "A-p6pgueGgCh",
        "outputId": "3aa6a3d1-265b-4475-b985-29eec56a0bad"
      },
      "source": [
        "print('Intercept: \\n', regr.intercept_)\n",
        "print('Coefficients: \\n', regr.coef_)"
      ],
      "execution_count": null,
      "outputs": [
        {
          "output_type": "stream",
          "text": [
            "Intercept: \n",
            " 36.48405900584099\n",
            "Coefficients: \n",
            " [26.94376642 10.65140001 -2.60276484  6.97589394  4.67168507 10.45125208\n",
            " -6.93737108 -7.61767696 -4.02390879 10.56907617 -7.10381969]\n"
          ],
          "name": "stdout"
        }
      ]
    },
    {
      "cell_type": "code",
      "metadata": {
        "colab": {
          "base_uri": "https://localhost:8080/"
        },
        "id": "sYD7mutQHIMk",
        "outputId": "46dfa711-d17a-4629-bca2-4212ef688170"
      },
      "source": [
        "np.array(data.loc[14, :])"
      ],
      "execution_count": null,
      "outputs": [
        {
          "output_type": "execute_result",
          "data": {
            "text/plain": [
              "array(['Dum Dums', 0, 1, 0, 0, 0, 0, 1, 0, 0, 0.73199999, 0.034000002,\n",
              "       39.460556, 0], dtype=object)"
            ]
          },
          "metadata": {
            "tags": []
          },
          "execution_count": 62
        }
      ]
    },
    {
      "cell_type": "code",
      "metadata": {
        "colab": {
          "base_uri": "https://localhost:8080/"
        },
        "id": "xC2mx73AKs0A",
        "outputId": "dfcdcc70-babf-4ba3-f92e-53fc9e3a1983"
      },
      "source": [
        "data.loc[14, :]"
      ],
      "execution_count": null,
      "outputs": [
        {
          "output_type": "execute_result",
          "data": {
            "text/plain": [
              "competitorname      Dum Dums\n",
              "chocolate                  0\n",
              "fruity                     1\n",
              "caramel                    0\n",
              "peanutyalmondy             0\n",
              "nougat                     0\n",
              "crispedricewafer           0\n",
              "hard                       1\n",
              "bar                        0\n",
              "pluribus                   0\n",
              "sugarpercent           0.732\n",
              "pricepercent           0.034\n",
              "winpercent           39.4606\n",
              "Y                          0\n",
              "Name: 14, dtype: object"
            ]
          },
          "metadata": {
            "tags": []
          },
          "execution_count": 63
        }
      ]
    },
    {
      "cell_type": "code",
      "metadata": {
        "colab": {
          "base_uri": "https://localhost:8080/"
        },
        "id": "AiFXc3tCLE27",
        "outputId": "d60d76ed-37a3-4235-a630-5c20ca512542"
      },
      "source": [
        "np.array(data.loc[62, :])"
      ],
      "execution_count": null,
      "outputs": [
        {
          "output_type": "execute_result",
          "data": {
            "text/plain": [
              "array(['Nestle Smarties', 1, 0, 0, 0, 0, 0, 0, 0, 1, 0.26699999,\n",
              "       0.97600001, 37.887188, 0], dtype=object)"
            ]
          },
          "metadata": {
            "tags": []
          },
          "execution_count": 65
        }
      ]
    },
    {
      "cell_type": "code",
      "metadata": {
        "colab": {
          "base_uri": "https://localhost:8080/"
        },
        "id": "7Vtv6JbtLJZG",
        "outputId": "27a02f7d-913e-482f-9d5b-92035a7f88da"
      },
      "source": [
        "print ('Nestle Smarties = ', regr.predict([[1, 0, 0, 0, 0, 0, 0, 0, 1, 0.26699999, 0.97600001]]))\n",
        "print ('temp = ', regr.predict([[1, 1, 1, 1, 0, 1, 0, 0, 0, 0.128, 0.37]]))\n",
        "print ('Dum Dums', regr.predict([[0, 1, 0, 0, 0, 0, 1, 0, 0, 0.73199999, 0.034000002]]))"
      ],
      "execution_count": null,
      "outputs": [
        {
          "output_type": "stream",
          "text": [
            "Nestle Smarties =  [55.29253178]\n",
            "temp =  [87.62803508]\n",
            "Dum Dums [47.69312171]\n"
          ],
          "name": "stdout"
        }
      ]
    },
    {
      "cell_type": "code",
      "metadata": {
        "colab": {
          "base_uri": "https://localhost:8080/"
        },
        "id": "UhBOOSkRNoIY",
        "outputId": "007645f6-fba1-477a-d107-ba4a806116b6"
      },
      "source": [
        "data = pd.read_csv(\"salary_and_population.csv\", encoding = 'utf-8', delimiter=',')\n",
        "print(data.head(5))\n",
        "for i in range(len(data)):\n",
        "  if data['Region_EN'][i] == 'Altai Republic' :\n",
        "    print(i)\n",
        "  if data['Region_EN'][i] == 'Magadan Region' :\n",
        "    print(i)  "
      ],
      "execution_count": null,
      "outputs": [
        {
          "output_type": "stream",
          "text": [
            "               Region_RU           Region_EN  ...  Population  Unnamed: 4\n",
            "0         Алтайский край        Altai Region  ...      218866         NaN\n",
            "1       Амурская область         Amur Region  ...      793194         NaN\n",
            "2  Архангельская область  Arkhangelsk Region  ...     1144119         NaN\n",
            "3   Астраханская область    Astrakhan Region  ...     1014065         NaN\n",
            "4   Белгородская область     Belgorod Region  ...     1547418         NaN\n",
            "\n",
            "[5 rows x 5 columns]\n",
            "31\n",
            "46\n"
          ],
          "name": "stdout"
        }
      ]
    },
    {
      "cell_type": "code",
      "metadata": {
        "id": "tvtlR_ONPI1j"
      },
      "source": [
        "data1 = data.drop([31,46], axis = 0)"
      ],
      "execution_count": null,
      "outputs": []
    },
    {
      "cell_type": "code",
      "metadata": {
        "colab": {
          "base_uri": "https://localhost:8080/"
        },
        "id": "q1KGBQsHPQuZ",
        "outputId": "04d97e1a-c03c-4214-c10d-00639d6a278f"
      },
      "source": [
        "print (data1['AVG_Salary'].mean())\n",
        "print (data1['AVG_Salary'].median())\n",
        "#variance\n",
        "print (data1['AVG_Salary'].var(ddof = 0))\n",
        "#standart deviation\n",
        "print (data1['AVG_Salary'].std(ddof = 0))"
      ],
      "execution_count": null,
      "outputs": [
        {
          "output_type": "stream",
          "text": [
            "38087.67469879518\n",
            "32473.0\n",
            "226057310.77369726\n",
            "15035.20238552502\n"
          ],
          "name": "stdout"
        }
      ]
    }
  ]
}