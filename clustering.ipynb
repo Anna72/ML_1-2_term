{
  "nbformat": 4,
  "nbformat_minor": 0,
  "metadata": {
    "colab": {
      "name": "clustering.ipynb",
      "provenance": [],
      "collapsed_sections": [],
      "authorship_tag": "ABX9TyNzYYSLUxKTPXC1OTBMLueh",
      "include_colab_link": true
    },
    "kernelspec": {
      "name": "python3",
      "display_name": "Python 3"
    }
  },
  "cells": [
    {
      "cell_type": "markdown",
      "metadata": {
        "id": "view-in-github",
        "colab_type": "text"
      },
      "source": [
        "<a href=\"https://colab.research.google.com/github/Anna72/ML_1_term/blob/main/clustering.ipynb\" target=\"_parent\"><img src=\"https://colab.research.google.com/assets/colab-badge.svg\" alt=\"Open In Colab\"/></a>"
      ]
    },
    {
      "cell_type": "code",
      "metadata": {
        "colab": {
          "base_uri": "https://localhost:8080/"
        },
        "id": "ssvNpmEIf9vX",
        "outputId": "c4057ca5-dee3-4335-a047-19d0a03b8ef5"
      },
      "source": [
        "import numpy as np\n",
        "from math import sqrt\n",
        "from sklearn.metrics.pairwise import euclidean_distances\n",
        "D = [[1,2], [0,3], [-1,1]]\n",
        "Y = [[0,-4], [4,-2]]\n",
        "#complete/single linkage clustering method distance between clusters D and Y\n",
        "# for complete result is max from clc\n",
        "# for single result is min from clc\n",
        "clc = euclidean_distances(D, Y)\n",
        "clc    "
      ],
      "execution_count": null,
      "outputs": [
        {
          "output_type": "execute_result",
          "data": {
            "text/plain": [
              "array([[6.08276253, 5.        ],\n",
              "       [7.        , 6.40312424],\n",
              "       [5.09901951, 5.83095189]])"
            ]
          },
          "metadata": {
            "tags": []
          },
          "execution_count": 25
        }
      ]
    },
    {
      "cell_type": "code",
      "metadata": {
        "colab": {
          "base_uri": "https://localhost:8080/"
        },
        "id": "HVA5pR2XDUwp",
        "outputId": "982f1174-0f48-45fd-c69e-fedb58deb157"
      },
      "source": [
        "#average linkage clustering method distance between clusters D and Y\n",
        "alv = sum(sum(clc))/(len(D)*len(Y))\n",
        "alv"
      ],
      "execution_count": null,
      "outputs": [
        {
          "output_type": "execute_result",
          "data": {
            "text/plain": [
              "5.902643029361525"
            ]
          },
          "metadata": {
            "tags": []
          },
          "execution_count": 24
        }
      ]
    },
    {
      "cell_type": "code",
      "metadata": {
        "colab": {
          "base_uri": "https://localhost:8080/"
        },
        "id": "yohLAdZHEVKX",
        "outputId": "250dedc1-aab6-4a08-f915-468d99446bcf"
      },
      "source": [
        "dc = np.mean(D, axis=0)\n",
        "print(dc)\n",
        "yc = np.mean(Y, axis=0)\n",
        "print(yc)\n",
        "# centroid baised distance between clusters D and Y\n",
        "cbc = sqrt(pow(dc[0]-yc[0], 2) + pow(dc[1]-yc[1], 2) )\n",
        "cbc"
      ],
      "execution_count": null,
      "outputs": [
        {
          "output_type": "stream",
          "text": [
            "[0. 2.]\n",
            "[ 2. -3.]\n"
          ],
          "name": "stdout"
        },
        {
          "output_type": "execute_result",
          "data": {
            "text/plain": [
              "5.385164807134504"
            ]
          },
          "metadata": {
            "tags": []
          },
          "execution_count": 31
        }
      ]
    },
    {
      "cell_type": "code",
      "metadata": {
        "colab": {
          "base_uri": "https://localhost:8080/"
        },
        "id": "cnf9aPA9Jmzo",
        "outputId": "457828fa-ddbb-48d6-a5b0-fcfc1e925573"
      },
      "source": [
        "from sklearn.cluster import AgglomerativeClustering\n",
        "import numpy as np\n",
        "X = np.array([[1,2], [0,3], [-1,1], [0,-4], [4,-2]])\n",
        "clustering = AgglomerativeClustering(linkage='single',n_clusters=2).fit(X)\n",
        "clustering\n",
        "\n"
      ],
      "execution_count": null,
      "outputs": [
        {
          "output_type": "execute_result",
          "data": {
            "text/plain": [
              "AgglomerativeClustering(affinity='euclidean', compute_full_tree='auto',\n",
              "                        connectivity=None, distance_threshold=None,\n",
              "                        linkage='single', memory=None, n_clusters=2)"
            ]
          },
          "metadata": {
            "tags": []
          },
          "execution_count": 40
        }
      ]
    },
    {
      "cell_type": "code",
      "metadata": {
        "colab": {
          "base_uri": "https://localhost:8080/"
        },
        "id": "qeUapnXFJ7L5",
        "outputId": "e743510a-f02d-44ef-f6c1-ea1a9fd721bc"
      },
      "source": [
        "AgglomerativeClustering()\n",
        "clustering.labels_\n",
        "# fourth step"
      ],
      "execution_count": null,
      "outputs": [
        {
          "output_type": "execute_result",
          "data": {
            "text/plain": [
              "array([1, 1, 1, 0, 0])"
            ]
          },
          "metadata": {
            "tags": []
          },
          "execution_count": 41
        }
      ]
    },
    {
      "cell_type": "code",
      "metadata": {
        "colab": {
          "base_uri": "https://localhost:8080/",
          "height": 431
        },
        "id": "H4hen5-mMOua",
        "outputId": "07333c31-f791-4ce5-c83a-3be1a09d1ddd"
      },
      "source": [
        "from scipy.cluster.hierarchy import dendrogram, linkage\n",
        "from matplotlib import pyplot as plt\n",
        "X = np.array([[1,2], [0,3], [-1,1], [0,-4], [4,-2]])\n",
        "linked = linkage(X, 'single')\n",
        "labelList = range(1, 6)\n",
        "plt.figure(figsize=(10, 7))\n",
        "dendrogram(linked,\n",
        "            orientation='top',\n",
        "            labels=labelList,\n",
        "            distance_sort='descending',\n",
        "            show_leaf_counts=True)\n",
        "plt.show()"
      ],
      "execution_count": null,
      "outputs": [
        {
          "output_type": "display_data",
          "data": {
            "image/png": "[encoded data removed]",
            "text/plain": [
              "<Figure size 720x504 with 1 Axes>"
            ]
          },
          "metadata": {
            "tags": [],
            "needs_background": "light"
          }
        }
      ]
    },
    {
      "cell_type": "code",
      "metadata": {
        "colab": {
          "base_uri": "https://localhost:8080/"
        },
        "id": "7ghAMYLsOHEs",
        "outputId": "cf6fddb2-e9a8-49cd-d06a-6e0f65439e4d"
      },
      "source": [
        "import numpy as np\n",
        "import pandas as pd\n",
        "DATA = pd.read_csv(\"kmeans.csv\", delimiter=',', index_col='Object')\n",
        "coords = DATA.drop('Cluster', axis=1)\n",
        "#Connecting the KMeans model from sklearn library\n",
        "from sklearn.cluster import KMeans\n",
        "#Initialization with centroids\n",
        "kmeans = KMeans(n_clusters=3, init=np.array([[8.5, 8.75], [10.5, 7.13], [12.0, 5.0]]), max_iter=100, n_init=1)\n",
        "#Model training\n",
        "model = kmeans.fit(coords)\n",
        "#Assigned clusters\n",
        "model.labels_.tolist()"
      ],
      "execution_count": null,
      "outputs": [
        {
          "output_type": "execute_result",
          "data": {
            "text/plain": [
              "[0, 0, 2, 0, 1, 2, 2, 0, 2, 1, 1, 2, 2, 0, 2]"
            ]
          },
          "metadata": {
            "tags": []
          },
          "execution_count": 71
        }
      ]
    },
    {
      "cell_type": "code",
      "metadata": {
        "colab": {
          "base_uri": "https://localhost:8080/",
          "height": 235
        },
        "id": "X2CjTb8WR5Ad",
        "outputId": "ae821f80-e694-4fd8-caf2-934f8e40d65d"
      },
      "source": [
        "DATA.head(5)"
      ],
      "execution_count": null,
      "outputs": [
        {
          "output_type": "execute_result",
          "data": {
            "text/html": [
              "<div>\n",
              "<style scoped>\n",
              "    .dataframe tbody tr th:only-of-type {\n",
              "        vertical-align: middle;\n",
              "    }\n",
              "\n",
              "    .dataframe tbody tr th {\n",
              "        vertical-align: top;\n",
              "    }\n",
              "\n",
              "    .dataframe thead th {\n",
              "        text-align: right;\n",
              "    }\n",
              "</style>\n",
              "<table border=\"1\" class=\"dataframe\">\n",
              "  <thead>\n",
              "    <tr style=\"text-align: right;\">\n",
              "      <th></th>\n",
              "      <th>X</th>\n",
              "      <th>Y</th>\n",
              "      <th>Cluster</th>\n",
              "    </tr>\n",
              "    <tr>\n",
              "      <th>Object</th>\n",
              "      <th></th>\n",
              "      <th></th>\n",
              "      <th></th>\n",
              "    </tr>\n",
              "  </thead>\n",
              "  <tbody>\n",
              "    <tr>\n",
              "      <th>1</th>\n",
              "      <td>2</td>\n",
              "      <td>13</td>\n",
              "      <td>0</td>\n",
              "    </tr>\n",
              "    <tr>\n",
              "      <th>2</th>\n",
              "      <td>5</td>\n",
              "      <td>6</td>\n",
              "      <td>1</td>\n",
              "    </tr>\n",
              "    <tr>\n",
              "      <th>3</th>\n",
              "      <td>17</td>\n",
              "      <td>7</td>\n",
              "      <td>2</td>\n",
              "    </tr>\n",
              "    <tr>\n",
              "      <th>4</th>\n",
              "      <td>5</td>\n",
              "      <td>10</td>\n",
              "      <td>1</td>\n",
              "    </tr>\n",
              "    <tr>\n",
              "      <th>5</th>\n",
              "      <td>12</td>\n",
              "      <td>6</td>\n",
              "      <td>2</td>\n",
              "    </tr>\n",
              "  </tbody>\n",
              "</table>\n",
              "</div>"
            ],
            "text/plain": [
              "         X   Y  Cluster\n",
              "Object                 \n",
              "1        2  13        0\n",
              "2        5   6        1\n",
              "3       17   7        2\n",
              "4        5  10        1\n",
              "5       12   6        2"
            ]
          },
          "metadata": {
            "tags": []
          },
          "execution_count": 72
        }
      ]
    },
    {
      "cell_type": "code",
      "metadata": {
        "colab": {
          "base_uri": "https://localhost:8080/"
        },
        "id": "Iw1BqexqPec5",
        "outputId": "0da05cab-cb60-4f36-bd8f-191714bf8cc0"
      },
      "source": [
        "#Calculation of distances to centroids\n",
        "alldistances = kmeans.fit_transform(coords)\n",
        "#Distances from the centroids to all data points\n",
        "alldistances"
      ],
      "execution_count": null,
      "outputs": [
        {
          "output_type": "execute_result",
          "data": {
            "text/plain": [
              "array([[ 3.73630834, 10.9188929 , 14.59661689],\n",
              "       [ 6.02992537,  6.47216261,  8.49729849],\n",
              "       [12.44829306,  5.67646212,  5.16068339],\n",
              "       [ 2.0880613 ,  6.87184271, 10.3746158 ],\n",
              "       [ 8.77268488,  1.49071198,  2.68404203],\n",
              "       [14.7566934 ,  7.45355992,  4.87601376],\n",
              "       [15.84171708,  8.49836586,  4.63570878],\n",
              "       [ 3.28024389, 10.67187373, 14.54759956],\n",
              "       [10.89770618,  3.72677996,  0.45175395],\n",
              "       [ 6.70522185,  2.74873708,  6.5293685 ],\n",
              "       [ 7.4404301 ,  1.88561808,  3.97183965],\n",
              "       [10.09752445,  6.87184271,  6.34066886],\n",
              "       [ 9.65194281,  3.34995854,  2.18529408],\n",
              "       [ 8.93084542,  9.80929265, 13.42933129],\n",
              "       [ 9.62081078,  4.92160769,  4.18208033]])"
            ]
          },
          "metadata": {
            "tags": []
          },
          "execution_count": 73
        }
      ]
    },
    {
      "cell_type": "code",
      "metadata": {
        "colab": {
          "base_uri": "https://localhost:8080/"
        },
        "id": "Gnum5Vyibs30",
        "outputId": "26486404-1dac-4517-da76-4ec959b4291d"
      },
      "source": [
        "s = 0\n",
        "ss = 0\n",
        "for i in range(14):\n",
        "  if (model.labels_[i] == 0 ):\n",
        "     s+= alldistances[i][0]\n",
        "     ss += 1 \n",
        "s/ss      "
      ],
      "execution_count": null,
      "outputs": [
        {
          "output_type": "execute_result",
          "data": {
            "text/plain": [
              "4.813076866197264"
            ]
          },
          "metadata": {
            "tags": []
          },
          "execution_count": 77
        }
      ]
    },
    {
      "cell_type": "code",
      "metadata": {
        "id": "ORqHules5LZ6"
      },
      "source": [
        "#--select (AVG(MIP)- MIN(MIP))/(MAX(MIP)- MIN(MIP)) from pulsar_stars where (TARGET = 0 and MIP >= 91.9609375 and MIP <= 92.65625) or  (TARGET = 1 and MIP >= 47.4140625 and MIP <= 52.9296875)"
      ],
      "execution_count": null,
      "outputs": []
    },
    {
      "cell_type": "code",
      "metadata": {
        "colab": {
          "base_uri": "https://localhost:8080/",
          "height": 514
        },
        "id": "7zIU9KpN6UIE",
        "outputId": "56c9923b-8d9d-4bd8-f746-32e5e5c4a45e"
      },
      "source": [
        "import pandas as pd\n",
        "import numpy as np\n",
        "#logistic regression\n",
        "data =  pd.read_csv(\"report (1).csv\", delimiter=',')\n",
        "data.head(15)"
      ],
      "execution_count": null,
      "outputs": [
        {
          "output_type": "execute_result",
          "data": {
            "text/html": [
              "<div>\n",
              "<style scoped>\n",
              "    .dataframe tbody tr th:only-of-type {\n",
              "        vertical-align: middle;\n",
              "    }\n",
              "\n",
              "    .dataframe tbody tr th {\n",
              "        vertical-align: top;\n",
              "    }\n",
              "\n",
              "    .dataframe thead th {\n",
              "        text-align: right;\n",
              "    }\n",
              "</style>\n",
              "<table border=\"1\" class=\"dataframe\">\n",
              "  <thead>\n",
              "    <tr style=\"text-align: right;\">\n",
              "      <th></th>\n",
              "      <th>MIP</th>\n",
              "      <th>STDIP</th>\n",
              "      <th>EKIP</th>\n",
              "      <th>SIP</th>\n",
              "      <th>MC</th>\n",
              "      <th>STDC</th>\n",
              "      <th>EKC</th>\n",
              "      <th>SC</th>\n",
              "      <th>TARGET</th>\n",
              "    </tr>\n",
              "  </thead>\n",
              "  <tbody>\n",
              "    <tr>\n",
              "      <th>0</th>\n",
              "      <td>67.664062</td>\n",
              "      <td>32.561787</td>\n",
              "      <td>2.028000</td>\n",
              "      <td>8.098344</td>\n",
              "      <td>8.266722</td>\n",
              "      <td>34.838902</td>\n",
              "      <td>4.793382</td>\n",
              "      <td>24.032048</td>\n",
              "      <td>1</td>\n",
              "    </tr>\n",
              "    <tr>\n",
              "      <th>1</th>\n",
              "      <td>65.226562</td>\n",
              "      <td>35.696904</td>\n",
              "      <td>2.291891</td>\n",
              "      <td>10.118479</td>\n",
              "      <td>15.515050</td>\n",
              "      <td>48.872426</td>\n",
              "      <td>3.185367</td>\n",
              "      <td>9.164036</td>\n",
              "      <td>1</td>\n",
              "    </tr>\n",
              "    <tr>\n",
              "      <th>2</th>\n",
              "      <td>69.210938</td>\n",
              "      <td>45.266166</td>\n",
              "      <td>2.024291</td>\n",
              "      <td>4.485091</td>\n",
              "      <td>2.546823</td>\n",
              "      <td>18.201225</td>\n",
              "      <td>9.997593</td>\n",
              "      <td>109.122306</td>\n",
              "      <td>1</td>\n",
              "    </tr>\n",
              "    <tr>\n",
              "      <th>3</th>\n",
              "      <td>65.796875</td>\n",
              "      <td>46.205106</td>\n",
              "      <td>2.289091</td>\n",
              "      <td>6.235283</td>\n",
              "      <td>20.372074</td>\n",
              "      <td>51.022074</td>\n",
              "      <td>2.941692</td>\n",
              "      <td>8.457182</td>\n",
              "      <td>1</td>\n",
              "    </tr>\n",
              "    <tr>\n",
              "      <th>4</th>\n",
              "      <td>69.210938</td>\n",
              "      <td>36.152380</td>\n",
              "      <td>2.602622</td>\n",
              "      <td>11.032994</td>\n",
              "      <td>11.813545</td>\n",
              "      <td>41.382661</td>\n",
              "      <td>3.902658</td>\n",
              "      <td>15.151920</td>\n",
              "      <td>1</td>\n",
              "    </tr>\n",
              "    <tr>\n",
              "      <th>5</th>\n",
              "      <td>94.765625</td>\n",
              "      <td>46.443596</td>\n",
              "      <td>0.703895</td>\n",
              "      <td>0.719807</td>\n",
              "      <td>2.153846</td>\n",
              "      <td>14.240637</td>\n",
              "      <td>10.837167</td>\n",
              "      <td>145.850546</td>\n",
              "      <td>0</td>\n",
              "    </tr>\n",
              "    <tr>\n",
              "      <th>6</th>\n",
              "      <td>94.757812</td>\n",
              "      <td>39.527235</td>\n",
              "      <td>0.785766</td>\n",
              "      <td>1.437366</td>\n",
              "      <td>2.275920</td>\n",
              "      <td>15.656293</td>\n",
              "      <td>9.990956</td>\n",
              "      <td>122.035398</td>\n",
              "      <td>0</td>\n",
              "    </tr>\n",
              "    <tr>\n",
              "      <th>7</th>\n",
              "      <td>95.031250</td>\n",
              "      <td>38.484562</td>\n",
              "      <td>0.387463</td>\n",
              "      <td>1.583800</td>\n",
              "      <td>2.834448</td>\n",
              "      <td>15.404610</td>\n",
              "      <td>7.857542</td>\n",
              "      <td>83.870055</td>\n",
              "      <td>0</td>\n",
              "    </tr>\n",
              "    <tr>\n",
              "      <th>8</th>\n",
              "      <td>94.781250</td>\n",
              "      <td>48.038061</td>\n",
              "      <td>0.444130</td>\n",
              "      <td>0.199481</td>\n",
              "      <td>0.498328</td>\n",
              "      <td>9.282765</td>\n",
              "      <td>22.753142</td>\n",
              "      <td>561.967854</td>\n",
              "      <td>0</td>\n",
              "    </tr>\n",
              "    <tr>\n",
              "      <th>9</th>\n",
              "      <td>68.101562</td>\n",
              "      <td>34.948364</td>\n",
              "      <td>2.107809</td>\n",
              "      <td>8.442368</td>\n",
              "      <td>5.709866</td>\n",
              "      <td>31.010710</td>\n",
              "      <td>5.862879</td>\n",
              "      <td>34.599675</td>\n",
              "      <td>1</td>\n",
              "    </tr>\n",
              "    <tr>\n",
              "      <th>10</th>\n",
              "      <td>95.289062</td>\n",
              "      <td>47.040068</td>\n",
              "      <td>0.411826</td>\n",
              "      <td>0.503116</td>\n",
              "      <td>4.890468</td>\n",
              "      <td>23.738871</td>\n",
              "      <td>6.239236</td>\n",
              "      <td>44.177220</td>\n",
              "      <td>0</td>\n",
              "    </tr>\n",
              "    <tr>\n",
              "      <th>11</th>\n",
              "      <td>95.265625</td>\n",
              "      <td>45.770399</td>\n",
              "      <td>0.524977</td>\n",
              "      <td>0.841960</td>\n",
              "      <td>2.593645</td>\n",
              "      <td>19.597849</td>\n",
              "      <td>8.765388</td>\n",
              "      <td>82.610265</td>\n",
              "      <td>0</td>\n",
              "    </tr>\n",
              "    <tr>\n",
              "      <th>12</th>\n",
              "      <td>95.062500</td>\n",
              "      <td>37.065556</td>\n",
              "      <td>0.712978</td>\n",
              "      <td>2.624366</td>\n",
              "      <td>1.708194</td>\n",
              "      <td>12.530537</td>\n",
              "      <td>10.936606</td>\n",
              "      <td>164.288253</td>\n",
              "      <td>0</td>\n",
              "    </tr>\n",
              "    <tr>\n",
              "      <th>13</th>\n",
              "      <td>69.234375</td>\n",
              "      <td>42.419130</td>\n",
              "      <td>2.010625</td>\n",
              "      <td>5.760894</td>\n",
              "      <td>12.018395</td>\n",
              "      <td>44.853306</td>\n",
              "      <td>3.963576</td>\n",
              "      <td>14.943819</td>\n",
              "      <td>1</td>\n",
              "    </tr>\n",
              "    <tr>\n",
              "      <th>14</th>\n",
              "      <td>94.960938</td>\n",
              "      <td>41.005412</td>\n",
              "      <td>0.471290</td>\n",
              "      <td>1.076393</td>\n",
              "      <td>3.608696</td>\n",
              "      <td>17.548758</td>\n",
              "      <td>7.484076</td>\n",
              "      <td>73.174765</td>\n",
              "      <td>0</td>\n",
              "    </tr>\n",
              "  </tbody>\n",
              "</table>\n",
              "</div>"
            ],
            "text/plain": [
              "          MIP      STDIP      EKIP  ...        EKC          SC  TARGET\n",
              "0   67.664062  32.561787  2.028000  ...   4.793382   24.032048       1\n",
              "1   65.226562  35.696904  2.291891  ...   3.185367    9.164036       1\n",
              "2   69.210938  45.266166  2.024291  ...   9.997593  109.122306       1\n",
              "3   65.796875  46.205106  2.289091  ...   2.941692    8.457182       1\n",
              "4   69.210938  36.152380  2.602622  ...   3.902658   15.151920       1\n",
              "5   94.765625  46.443596  0.703895  ...  10.837167  145.850546       0\n",
              "6   94.757812  39.527235  0.785766  ...   9.990956  122.035398       0\n",
              "7   95.031250  38.484562  0.387463  ...   7.857542   83.870055       0\n",
              "8   94.781250  48.038061  0.444130  ...  22.753142  561.967854       0\n",
              "9   68.101562  34.948364  2.107809  ...   5.862879   34.599675       1\n",
              "10  95.289062  47.040068  0.411826  ...   6.239236   44.177220       0\n",
              "11  95.265625  45.770399  0.524977  ...   8.765388   82.610265       0\n",
              "12  95.062500  37.065556  0.712978  ...  10.936606  164.288253       0\n",
              "13  69.234375  42.419130  2.010625  ...   3.963576   14.943819       1\n",
              "14  94.960938  41.005412  0.471290  ...   7.484076   73.174765       0\n",
              "\n",
              "[15 rows x 9 columns]"
            ]
          },
          "metadata": {
            "tags": []
          },
          "execution_count": 13
        }
      ]
    },
    {
      "cell_type": "code",
      "metadata": {
        "colab": {
          "base_uri": "https://localhost:8080/"
        },
        "id": "C8xrElJL8EVT",
        "outputId": "f60ccdfa-7f92-48d1-b32a-0cf15d7c1a02"
      },
      "source": [
        "from sklearn import preprocessing\n",
        "normalized = preprocessing.normalize(data, norm='max',axis=0)\n",
        "normalized[0]"
      ],
      "execution_count": null,
      "outputs": [
        {
          "output_type": "execute_result",
          "data": {
            "text/plain": [
              "array([0.71009265, 0.45793166, 0.63493808, 0.50605331, 0.05136771,\n",
              "       0.32428847, 0.19807652, 0.03796839, 1.        ])"
            ]
          },
          "metadata": {
            "tags": []
          },
          "execution_count": 44
        }
      ]
    },
    {
      "cell_type": "code",
      "metadata": {
        "colab": {
          "base_uri": "https://localhost:8080/"
        },
        "id": "iWITDNcz8s-E",
        "outputId": "289d4a70-8902-468a-99f9-3bdc268fd60e"
      },
      "source": [
        " from sklearn.preprocessing import MinMaxScaler\n",
        " scaler = MinMaxScaler()\n",
        " scaler.fit(data)\n",
        " print(scaler.data_max_)\n",
        " print(scaler.data_min_)\n",
        " \n",
        " print(scaler.transform(data))\n",
        " "
      ],
      "execution_count": null,
      "outputs": [
        {
          "output_type": "stream",
          "text": [
            "[ 95.2890625   71.10621457   3.19401183  16.00294689 160.9322742\n",
            " 107.4318232   24.19964651 632.948879     1.        ]\n",
            "[65.078125   30.23704769  0.08535154 -0.45223887  0.43478261  8.86973326\n",
            " -1.15513947 -1.62340451  0.        ]\n",
            "[[0.08559607 0.05688247 0.62491492 ... 0.23461138 0.04042952 1.        ]\n",
            " [0.00491337 0.13359354 0.70980389 ... 0.1711908  0.01699954 1.        ]\n",
            " [0.13679855 0.36773734 0.62372183 ... 0.43986695 0.17452025 1.        ]\n",
            " ...\n",
            " [0.00413757 0.07161705 0.89288912 ... 0.09957792 0.00305748 1.        ]\n",
            " [0.97957073 0.37290461 0.11274787 ... 0.65585022 0.40763781 0.        ]\n",
            " [0.98293251 0.18306549 0.14583936 ... 0.58986071 0.40097295 0.        ]]\n"
          ],
          "name": "stdout"
        }
      ]
    },
    {
      "cell_type": "markdown",
      "metadata": {
        "id": "3NWl0SntB7C5"
      },
      "source": [
        ""
      ]
    },
    {
      "cell_type": "code",
      "metadata": {
        "colab": {
          "base_uri": "https://localhost:8080/"
        },
        "id": "n7bFGEs4BPBS",
        "outputId": "c680c747-f13b-4e2b-fb3c-fdde8cdb73d1"
      },
      "source": [
        "\n",
        "from sklearn.linear_model import LogisticRegression\n",
        "\n",
        "X = normalized[:, [0,1,2,3,4,5,6,7]]\n",
        "y = normalized[:, 8]\n",
        "#X = pd.DataFrame(normalized.(['TARGET'], axis=1))\n",
        "#Selecting the response column\n",
        "#y = pd.DataFrame(normalized['TARGET'])\n",
        "reg = LogisticRegression(random_state=2019, solver='lbfgs').fit(X, y)\n",
        "reg.predict_proba([[0.254, 0.19, 0.939, 0.624, 0.935, 0.875, 0.151, 0.312]])"
      ],
      "execution_count": null,
      "outputs": [
        {
          "output_type": "execute_result",
          "data": {
            "text/plain": [
              "array([[0.00179315, 0.99820685]])"
            ]
          },
          "metadata": {
            "tags": []
          },
          "execution_count": 38
        }
      ]
    },
    {
      "cell_type": "code",
      "metadata": {
        "colab": {
          "base_uri": "https://localhost:8080/"
        },
        "id": "04iB5BJoI-ok",
        "outputId": "225a1897-73cf-4b90-fbde-e6d8268b4ff4"
      },
      "source": [
        "#right solution , minmax scaler\n",
        "xn = scaler.transform(data)\n",
        "X = xn[:, [0,1,2,3,4,5,6,7]]\n",
        "y = xn[:, 8]\n",
        "#X = pd.DataFrame(normalized.(['TARGET'], axis=1))\n",
        "#Selecting the response column\n",
        "#y = pd.DataFrame(normalized['TARGET'])\n",
        "reg = LogisticRegression(random_state=2019, solver='lbfgs').fit(X, y)\n",
        "reg.predict_proba([[0.254, 0.19, 0.939, 0.624, 0.935, 0.875, 0.151, 0.312]])"
      ],
      "execution_count": null,
      "outputs": [
        {
          "output_type": "execute_result",
          "data": {
            "text/plain": [
              "array([[0.01979559, 0.98020441]])"
            ]
          },
          "metadata": {
            "tags": []
          },
          "execution_count": 45
        }
      ]
    },
    {
      "cell_type": "code",
      "metadata": {
        "colab": {
          "base_uri": "https://localhost:8080/"
        },
        "id": "kZNNnxnjGvn1",
        "outputId": "60342f42-37e1-4814-d80e-b371dd4de8e6"
      },
      "source": [
        "from sklearn.metrics.pairwise import euclidean_distances\n",
        "Y = [[0.254, 0.19, 0.939, 0.624, 0.935, 0.875, 0.151, 0.312]]\n",
        "clc = euclidean_distances(X, Y)\n",
        "min(clc)    "
      ],
      "execution_count": null,
      "outputs": [
        {
          "output_type": "execute_result",
          "data": {
            "text/plain": [
              "array([0.60717192])"
            ]
          },
          "metadata": {
            "tags": []
          },
          "execution_count": 46
        }
      ]
    },
    {
      "cell_type": "code",
      "metadata": {
        "colab": {
          "base_uri": "https://localhost:8080/"
        },
        "id": "VxJ3S3i2Hvag",
        "outputId": "f9f96e62-f013-466d-d413-e094cfcef6c1"
      },
      "source": [
        "from sklearn.cluster import KMeans\n",
        "#Initialization with centroids\n",
        "kmeans = KMeans(n_clusters=5)\n",
        "model = kmeans.fit(X)\n",
        "#Assigned clusters\n",
        "model.labels_.tolist()\n",
        "model.predict(Y)"
      ],
      "execution_count": null,
      "outputs": [
        {
          "output_type": "execute_result",
          "data": {
            "text/plain": [
              "array([0], dtype=int32)"
            ]
          },
          "metadata": {
            "tags": []
          },
          "execution_count": 47
        }
      ]
    }
  ]
}