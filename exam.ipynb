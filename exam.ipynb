{
  "nbformat": 4,
  "nbformat_minor": 0,
  "metadata": {
    "colab": {
      "name": "exam.ipynb",
      "provenance": [],
      "collapsed_sections": [],
      "authorship_tag": "ABX9TyOoNaG4x+XdVtoy+McqA7RZ",
      "include_colab_link": true
    },
    "kernelspec": {
      "name": "python3",
      "display_name": "Python 3"
    },
    "language_info": {
      "name": "python"
    }
  },
  "cells": [
    {
      "cell_type": "markdown",
      "metadata": {
        "id": "view-in-github",
        "colab_type": "text"
      },
      "source": [
        "<a href=\"https://colab.research.google.com/github/Anna72/ML_1_term/blob/main/exam.ipynb\" target=\"_parent\"><img src=\"https://colab.research.google.com/assets/colab-badge.svg\" alt=\"Open In Colab\"/></a>"
      ]
    },
    {
      "cell_type": "code",
      "metadata": {
        "colab": {
          "base_uri": "https://localhost:8080/"
        },
        "id": "spqyZEX_7rGm",
        "outputId": "32458de3-8ab6-403b-9f90-77ef10293e7d"
      },
      "source": [
        "from keras.datasets import mnist\n",
        "(X_train, y_train), (X_pred, y_pred) = mnist.load_data()"
      ],
      "execution_count": null,
      "outputs": [
        {
          "output_type": "stream",
          "text": [
            "Downloading data from https://storage.googleapis.com/tensorflow/tf-keras-datasets/mnist.npz\n",
            "11493376/11490434 [==============================] - 0s 0us/step\n",
            "11501568/11490434 [==============================] - 0s 0us/step\n"
          ],
          "name": "stdout"
        }
      ]
    },
    {
      "cell_type": "code",
      "metadata": {
        "id": "YOBCkQVl_q4X"
      },
      "source": [
        "X_train = X_train[0:3000]\n",
        "y_train = y_train[0:3000]\n",
        "\n",
        "dim = 784 # 28*28 \n",
        "X_train = X_train.reshape(len(X_train), dim)\n",
        "#y_train = y_train.reshape(len(X_train), dim)\n",
        "from sklearn.model_selection import train_test_split\n",
        "X_train, X_test, y_train, y_test = train_test_split(X_train, y_train, test_size=0.3, random_state=23)"
      ],
      "execution_count": null,
      "outputs": []
    },
    {
      "cell_type": "code",
      "metadata": {
        "id": "B-vXzFrOAdra"
      },
      "source": [
        "from sklearn.multiclass import OneVsRestClassifier\n",
        "from sklearn.tree import DecisionTreeClassifier\n",
        "from sklearn.ensemble import RandomForestClassifier"
      ],
      "execution_count": null,
      "outputs": []
    },
    {
      "cell_type": "code",
      "metadata": {
        "id": "owFtSZvNAeoh"
      },
      "source": [
        "tree = RandomForestClassifier(criterion='gini', min_samples_leaf=10, max_depth=20, n_estimators=10, random_state=23)\n",
        "\n",
        "clf = OneVsRestClassifier(tree).fit(X_train, y_train)\n",
        "\n",
        "y_pred = clf.predict(X_test)"
      ],
      "execution_count": null,
      "outputs": []
    },
    {
      "cell_type": "code",
      "metadata": {
        "id": "BYsa7UwSAzgb"
      },
      "source": [
        "from sklearn.metrics import confusion_matrix\n",
        "CM = confusion_matrix(y_test, y_pred)\n"
      ],
      "execution_count": null,
      "outputs": []
    },
    {
      "cell_type": "code",
      "metadata": {
        "colab": {
          "base_uri": "https://localhost:8080/"
        },
        "id": "lA3l9fpRBMbQ",
        "outputId": "f073abf9-e1ba-4208-cd4e-ea4d0db171c4"
      },
      "source": [
        "CM"
      ],
      "execution_count": null,
      "outputs": [
        {
          "output_type": "execute_result",
          "data": {
            "text/plain": [
              "array([[81,  0,  1,  0,  0,  0,  3,  0,  3,  0],\n",
              "       [ 0, 77,  0,  0,  0,  0,  1,  1,  0,  0],\n",
              "       [ 0,  3, 94,  2,  1,  0,  1,  3,  2,  0],\n",
              "       [ 0,  4,  1, 68,  0,  2,  0,  2,  1,  1],\n",
              "       [ 1,  0,  1,  0, 99,  0,  5,  1,  1,  3],\n",
              "       [ 2,  0,  0,  9,  1, 76,  3,  0,  2,  3],\n",
              "       [ 2,  0,  0,  0,  2,  1, 76,  0,  1,  0],\n",
              "       [ 1,  3,  1,  1,  4,  0,  0, 84,  0,  1],\n",
              "       [ 1,  4,  1,  6,  1,  4,  1,  0, 60,  2],\n",
              "       [ 2,  0,  1,  0,  4,  0,  0,  9,  0, 68]])"
            ]
          },
          "metadata": {
            "tags": []
          },
          "execution_count": 38
        }
      ]
    },
    {
      "cell_type": "code",
      "metadata": {
        "colab": {
          "base_uri": "https://localhost:8080/"
        },
        "id": "-Kx1ZLCLBOMv",
        "outputId": "7d729c26-5e5c-4f36-af53-43226db5c6dd"
      },
      "source": [
        "rez = 0\n",
        "for i in range(10):\n",
        "  rez += CM[i][i]\n",
        "rez  "
      ],
      "execution_count": null,
      "outputs": [
        {
          "output_type": "execute_result",
          "data": {
            "text/plain": [
              "783"
            ]
          },
          "metadata": {
            "tags": []
          },
          "execution_count": 39
        }
      ]
    },
    {
      "cell_type": "code",
      "metadata": {
        "colab": {
          "base_uri": "https://localhost:8080/"
        },
        "id": "Xf7TVswxBsMi",
        "outputId": "d0cd75b0-d255-473d-9e2e-16138eca4deb"
      },
      "source": [
        "import pandas as pd\n",
        "df = pd.read_csv('DataForPrediction_FinalTask.csv')\n",
        "df_loc = df[df.id == 88].iloc[:,1:]\n",
        "clf.predict_proba(df_loc).max()"
      ],
      "execution_count": null,
      "outputs": [
        {
          "output_type": "execute_result",
          "data": {
            "text/plain": [
              "0.5599692720840238"
            ]
          },
          "metadata": {
            "tags": []
          },
          "execution_count": 40
        }
      ]
    },
    {
      "cell_type": "code",
      "metadata": {
        "id": "z46Nj7b9CzmM"
      },
      "source": [
        "from sklearn.decomposition import PCA\n",
        "pca = PCA(n_components=33, svd_solver='full').fit(X_train, y_train)\n"
      ],
      "execution_count": null,
      "outputs": []
    },
    {
      "cell_type": "code",
      "metadata": {
        "id": "-XkP6gTrDMi3"
      },
      "source": [
        "from sklearn.tree import DecisionTreeClassifier\n",
        "tree = DecisionTreeClassifier(criterion='gini', min_samples_leaf=10, max_depth=20, random_state=23)\n",
        "\n",
        "clf = OneVsRestClassifier(tree).fit(pca.transform(X_train), y_train)\n",
        "\n",
        "y_pred = clf.predict(pca.transform(X_test))"
      ],
      "execution_count": null,
      "outputs": []
    },
    {
      "cell_type": "code",
      "metadata": {
        "colab": {
          "base_uri": "https://localhost:8080/"
        },
        "id": "xJ44tDUQECqc",
        "outputId": "4eb1fb63-e984-44a1-f8f0-33c00611163a"
      },
      "source": [
        "CM = confusion_matrix(y_test, y_pred)\n",
        "CM\n"
      ],
      "execution_count": null,
      "outputs": [
        {
          "output_type": "execute_result",
          "data": {
            "text/plain": [
              "array([[77,  0,  0,  1,  1,  4,  1,  0,  1,  3],\n",
              "       [ 0, 74,  2,  0,  0,  0,  0,  0,  2,  1],\n",
              "       [ 1,  2, 71,  5,  4,  4,  4,  2,  3, 10],\n",
              "       [ 1,  1,  6, 47,  0,  8,  0,  1,  2, 13],\n",
              "       [ 1,  1,  4,  1, 77,  5,  5,  2,  3, 12],\n",
              "       [ 1,  1,  4, 14,  4, 46,  4,  1,  9, 12],\n",
              "       [ 0,  1,  1,  1,  0,  2, 67,  0,  1,  9],\n",
              "       [ 2,  3,  1,  1,  2,  2,  0, 76,  1,  7],\n",
              "       [ 0,  4,  8,  4,  0,  5,  1,  0, 47, 11],\n",
              "       [ 2,  0,  2,  1,  8,  3,  2,  8,  3, 55]])"
            ]
          },
          "metadata": {
            "tags": []
          },
          "execution_count": 44
        }
      ]
    },
    {
      "cell_type": "code",
      "metadata": {
        "colab": {
          "base_uri": "https://localhost:8080/"
        },
        "id": "l8WqU1aVEIHf",
        "outputId": "07a26fb4-6112-4f1e-a94b-951b753f0fd8"
      },
      "source": [
        "rez = 0\n",
        "for i in range(10):\n",
        "  rez += CM[i][i]\n",
        "rez  "
      ],
      "execution_count": null,
      "outputs": [
        {
          "output_type": "execute_result",
          "data": {
            "text/plain": [
              "637"
            ]
          },
          "metadata": {
            "tags": []
          },
          "execution_count": 45
        }
      ]
    },
    {
      "cell_type": "code",
      "metadata": {
        "colab": {
          "base_uri": "https://localhost:8080/"
        },
        "id": "0DCYfL0LEP-4",
        "outputId": "fb42fb10-c65b-4239-d64d-7bbad9b8f941"
      },
      "source": [
        "clf.predict_proba(pca.transform(df_loc))"
      ],
      "execution_count": null,
      "outputs": [
        {
          "output_type": "execute_result",
          "data": {
            "text/plain": [
              "array([[0., 0., 0., 0., 0., 0., 1., 0., 0., 0.]])"
            ]
          },
          "metadata": {
            "tags": []
          },
          "execution_count": 47
        }
      ]
    }
  ]
}